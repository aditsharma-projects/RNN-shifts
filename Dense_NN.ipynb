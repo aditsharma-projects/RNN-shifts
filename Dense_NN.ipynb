{
 "cells": [
  {
   "cell_type": "code",
   "execution_count": 1,
   "metadata": {},
   "outputs": [],
   "source": [
    "from numpy import genfromtxt\n",
    "import tensorflow as tf\n",
    "import numpy as np\n",
    "\n",
    "data1 = genfromtxt('/users/facsupport/asharma/Data/batches/31/OH/one.csv',delimiter=',')\n",
    "data2 = genfromtxt('/users/facsupport/asharma/Data/batches/31/OH/two.csv',delimiter=',')\n",
    "data3 = genfromtxt('/users/facsupport/asharma/Data/batches/31/OH/three.csv',delimiter=',')"
   ]
  },
  {
   "cell_type": "code",
   "execution_count": 6,
   "metadata": {},
   "outputs": [
    {
     "name": "stdout",
     "output_type": "stream",
     "text": [
      "(28187, 61)\n",
      "(17048, 61)\n",
      "(17559, 61)\n"
     ]
    }
   ],
   "source": [
    "print(data1.shape)\n",
    "print(data2.shape)\n",
    "print(data3.shape)\n",
    "train_set = np.concatenate((data1,data2),axis=0)\n",
    "test_set = data3"
   ]
  },
  {
   "cell_type": "code",
   "execution_count": 8,
   "metadata": {},
   "outputs": [],
   "source": [
    "def make_traindata(set):\n",
    "    examples = np.concatenate((set[:,:30],set[:,33:]),axis=1) #Concatenate time series and OH encoding\n",
    "    labels = set[:,30:31]\n",
    "\n",
    "    return tf.data.Dataset.from_tensor_slices((examples,labels))\n"
   ]
  },
  {
   "cell_type": "code",
   "execution_count": 34,
   "metadata": {},
   "outputs": [],
   "source": [
    "train_dataset = make_traindata(train_set)\n",
    "\n",
    "BATCH_SIZE = 8\n",
    "\n",
    "train_dataset = train_dataset.batch(BATCH_SIZE)\n",
    "\n",
    "tf.keras.backend.set_floatx('float64')"
   ]
  },
  {
   "cell_type": "code",
   "execution_count": 35,
   "metadata": {},
   "outputs": [
    {
     "data": {
      "text/plain": [
       "<TakeDataset shapes: ((None, 58), (None, 1)), types: (tf.float64, tf.float64)>"
      ]
     },
     "execution_count": 35,
     "metadata": {},
     "output_type": "execute_result"
    }
   ],
   "source": [
    "train_dataset.take(1)\n"
   ]
  },
  {
   "cell_type": "code",
   "execution_count": 36,
   "metadata": {},
   "outputs": [],
   "source": [
    "loss_object = tf.keras.losses.MeanSquaredError()\n",
    "optimizer = tf.keras.optimizers.Adam(2e-5, beta_1=0.5)\n",
    "\n",
    "def testModel(testSet, model):\n",
    "    absError = 0\n",
    "    length = 0\n",
    "    for entry in testSet:\n",
    "        \n",
    "        seq = np.concatenate((entry[:30],entry[33:]),axis=0)\n",
    "        seq = np.array([[seq]])\n",
    "        seq = np.transpose(seq, axes=[0, 2, 1])\n",
    "\n",
    "        label = entry[30:31]\n",
    "        mean = entry[31:32]\n",
    "        std = entry[32:33]\n",
    "\n",
    "        prediction = model(seq)\n",
    "        prediction = (prediction*std)+mean\n",
    "        label = (label*std)+mean\n",
    "        print(\"Prediction: \"+str(prediction)+\" True Value: \"+str(label))\n",
    "        if np.isnan(abs(prediction-label)):\n",
    "            continue\n",
    "        length += 1\n",
    "        absError += abs(prediction-label)\n",
    "    print(\"Mean Absolute Error: \"+str(absError/length))    \n",
    "    \n"
   ]
  },
  {
   "cell_type": "code",
   "execution_count": 37,
   "metadata": {},
   "outputs": [],
   "source": [
    "def train_epoch(model):\n",
    " i = 0\n",
    " nanCount = 0\n",
    " for example, label in train_dataset:\n",
    "     example = np.expand_dims(example,2)\n",
    "     label = np.expand_dims(label,2)\n",
    "     with tf.GradientTape() as tape:\n",
    "         prediction = model(example)\n",
    "         loss = loss_object(prediction,label)\n",
    "         if loss.dtype == tf.int64:\n",
    "             continue\n",
    "\n",
    "         \n",
    "         gradients = tape.gradient(loss,model.trainable_variables)\n",
    "         if np.isnan(gradients[0].numpy())[0][0]:\n",
    "            nanCount+=1 \n",
    "            continue\n",
    "         i += 1\n",
    "         if i%1000 == 1:    \n",
    "            print(\"LOSS: \"+str(loss))\n",
    "         optimizer.apply_gradients(zip(gradients,model.trainable_variables))\n",
    " print(\"NAN Count: \"+str(nanCount)+\" Successfully trained batches: \"+str(i))\n"
   ]
  },
  {
   "cell_type": "code",
   "execution_count": 38,
   "metadata": {},
   "outputs": [],
   "source": [
    "model = tf.keras.Sequential([\n",
    "    tf.keras.layers.Dense(64, input_dim = 58),\n",
    "    tf.keras.layers.Dense(32),\n",
    "    tf.keras.layers.Dense(1)\n",
    "])"
   ]
  },
  {
   "cell_type": "code",
   "execution_count": 39,
   "metadata": {},
   "outputs": [
    {
     "name": "stdout",
     "output_type": "stream",
     "text": [
      "EPOCH: 0\n",
      "LOSS: tf.Tensor(1.2838565111160278, shape=(), dtype=float64)\n",
      "LOSS: tf.Tensor(0.8658167123794556, shape=(), dtype=float64)\n",
      "LOSS: tf.Tensor(0.7205873727798462, shape=(), dtype=float64)\n",
      "LOSS: tf.Tensor(0.7944233417510986, shape=(), dtype=float64)\n",
      "LOSS: tf.Tensor(0.6088616847991943, shape=(), dtype=float64)\n",
      "LOSS: tf.Tensor(0.323394238948822, shape=(), dtype=float64)\n",
      "NAN Count: 260 Successly trained batches: 5395\n",
      "EPOCH: 1\n",
      "LOSS: tf.Tensor(0.857864499092102, shape=(), dtype=float64)\n",
      "LOSS: tf.Tensor(0.6226292252540588, shape=(), dtype=float64)\n",
      "LOSS: tf.Tensor(0.633002519607544, shape=(), dtype=float64)\n",
      "LOSS: tf.Tensor(0.7169365882873535, shape=(), dtype=float64)\n",
      "LOSS: tf.Tensor(0.6022996306419373, shape=(), dtype=float64)\n",
      "LOSS: tf.Tensor(0.3293924331665039, shape=(), dtype=float64)\n",
      "NAN Count: 260 Successly trained batches: 5395\n",
      "EPOCH: 2\n",
      "LOSS: tf.Tensor(0.8746129870414734, shape=(), dtype=float64)\n",
      "LOSS: tf.Tensor(0.5518472790718079, shape=(), dtype=float64)\n",
      "LOSS: tf.Tensor(0.6246602535247803, shape=(), dtype=float64)\n",
      "LOSS: tf.Tensor(0.7107905149459839, shape=(), dtype=float64)\n",
      "LOSS: tf.Tensor(0.6020851135253906, shape=(), dtype=float64)\n",
      "LOSS: tf.Tensor(0.3291354775428772, shape=(), dtype=float64)\n",
      "NAN Count: 260 Successly trained batches: 5395\n",
      "EPOCH: 3\n",
      "LOSS: tf.Tensor(0.872208833694458, shape=(), dtype=float64)\n",
      "LOSS: tf.Tensor(0.5042595863342285, shape=(), dtype=float64)\n",
      "LOSS: tf.Tensor(0.6225792169570923, shape=(), dtype=float64)\n",
      "LOSS: tf.Tensor(0.7095721364021301, shape=(), dtype=float64)\n",
      "LOSS: tf.Tensor(0.6042617559432983, shape=(), dtype=float64)\n",
      "LOSS: tf.Tensor(0.3286581337451935, shape=(), dtype=float64)\n",
      "NAN Count: 260 Successly trained batches: 5395\n",
      "EPOCH: 4\n",
      "LOSS: tf.Tensor(0.8690738081932068, shape=(), dtype=float64)\n",
      "LOSS: tf.Tensor(0.47530412673950195, shape=(), dtype=float64)\n",
      "LOSS: tf.Tensor(0.6231483221054077, shape=(), dtype=float64)\n",
      "LOSS: tf.Tensor(0.7092586159706116, shape=(), dtype=float64)\n",
      "LOSS: tf.Tensor(0.6069592237472534, shape=(), dtype=float64)\n",
      "LOSS: tf.Tensor(0.3281475603580475, shape=(), dtype=float64)\n",
      "NAN Count: 260 Successly trained batches: 5395\n",
      "EPOCH: 5\n",
      "LOSS: tf.Tensor(0.866614818572998, shape=(), dtype=float64)\n",
      "LOSS: tf.Tensor(0.45720696449279785, shape=(), dtype=float64)\n",
      "LOSS: tf.Tensor(0.6248307228088379, shape=(), dtype=float64)\n",
      "LOSS: tf.Tensor(0.7092534899711609, shape=(), dtype=float64)\n",
      "LOSS: tf.Tensor(0.6094517111778259, shape=(), dtype=float64)\n",
      "LOSS: tf.Tensor(0.3277016282081604, shape=(), dtype=float64)\n",
      "NAN Count: 260 Successly trained batches: 5395\n",
      "EPOCH: 6\n",
      "LOSS: tf.Tensor(0.8649200201034546, shape=(), dtype=float64)\n",
      "LOSS: tf.Tensor(0.4455024302005768, shape=(), dtype=float64)\n",
      "LOSS: tf.Tensor(0.6268014907836914, shape=(), dtype=float64)\n",
      "LOSS: tf.Tensor(0.7093284130096436, shape=(), dtype=float64)\n",
      "LOSS: tf.Tensor(0.6114830374717712, shape=(), dtype=float64)\n",
      "LOSS: tf.Tensor(0.32735294103622437, shape=(), dtype=float64)\n",
      "NAN Count: 260 Successly trained batches: 5395\n",
      "EPOCH: 7\n",
      "LOSS: tf.Tensor(0.8638067841529846, shape=(), dtype=float64)\n",
      "LOSS: tf.Tensor(0.4377745985984802, shape=(), dtype=float64)\n",
      "LOSS: tf.Tensor(0.6286685466766357, shape=(), dtype=float64)\n",
      "LOSS: tf.Tensor(0.7093944549560547, shape=(), dtype=float64)\n",
      "LOSS: tf.Tensor(0.6130273938179016, shape=(), dtype=float64)\n",
      "LOSS: tf.Tensor(0.3270944356918335, shape=(), dtype=float64)\n",
      "NAN Count: 260 Successly trained batches: 5395\n",
      "EPOCH: 8\n",
      "LOSS: tf.Tensor(0.8630755543708801, shape=(), dtype=float64)\n",
      "LOSS: tf.Tensor(0.43260854482650757, shape=(), dtype=float64)\n",
      "LOSS: tf.Tensor(0.6302779912948608, shape=(), dtype=float64)\n",
      "LOSS: tf.Tensor(0.7094137668609619, shape=(), dtype=float64)\n",
      "LOSS: tf.Tensor(0.6141536235809326, shape=(), dtype=float64)\n",
      "LOSS: tf.Tensor(0.3269067406654358, shape=(), dtype=float64)\n",
      "NAN Count: 260 Successly trained batches: 5395\n",
      "EPOCH: 9\n",
      "LOSS: tf.Tensor(0.8625829219818115, shape=(), dtype=float64)\n",
      "LOSS: tf.Tensor(0.4291256070137024, shape=(), dtype=float64)\n",
      "LOSS: tf.Tensor(0.6315973997116089, shape=(), dtype=float64)\n",
      "LOSS: tf.Tensor(0.7093793153762817, shape=(), dtype=float64)\n",
      "LOSS: tf.Tensor(0.6149535179138184, shape=(), dtype=float64)\n",
      "LOSS: tf.Tensor(0.3267703056335449, shape=(), dtype=float64)\n",
      "NAN Count: 260 Successly trained batches: 5395\n"
     ]
    }
   ],
   "source": [
    "for i in range(10):\n",
    "    print(\"EPOCH: \"+str(i))\n",
    "    train_epoch(model)\n",
    "    "
   ]
  },
  {
   "cell_type": "code",
   "execution_count": 40,
   "metadata": {},
   "outputs": [
    {
     "name": "stdout",
     "output_type": "stream",
     "text": [
      "Prediction: tf.Tensor([[8.75735677]], shape=(1, 1), dtype=float64) True Value: [8.]\n",
      "Prediction: tf.Tensor([[8.98448375]], shape=(1, 1), dtype=float64) True Value: [7.75]\n",
      "Prediction: tf.Tensor([[7.83813437]], shape=(1, 1), dtype=float64) True Value: [7.5]\n",
      "Prediction: tf.Tensor([[8.26303863]], shape=(1, 1), dtype=float64) True Value: [7.75]\n",
      "Prediction: tf.Tensor([[8.20121309]], shape=(1, 1), dtype=float64) True Value: [7.25]\n",
      "Prediction: tf.Tensor([[5.47220158]], shape=(1, 1), dtype=float64) True Value: [0.]\n",
      "Prediction: tf.Tensor([[7.51059971]], shape=(1, 1), dtype=float64) True Value: [7.5]\n",
      "Prediction: tf.Tensor([[7.19941495]], shape=(1, 1), dtype=float64) True Value: [6.82]\n",
      "Prediction: tf.Tensor([[8.83370921]], shape=(1, 1), dtype=float64) True Value: [8.]\n",
      "Prediction: tf.Tensor([[9.22714197]], shape=(1, 1), dtype=float64) True Value: [7.75]\n",
      "Mean Absolute Error: tf.Tensor([[1.1967294]], shape=(1, 1), dtype=float64)\n"
     ]
    }
   ],
   "source": [
    "testModel(test_set[0:10],model)\n"
   ]
  },
  {
   "cell_type": "code",
   "execution_count": 41,
   "metadata": {},
   "outputs": [
    {
     "name": "stdout",
     "output_type": "stream",
     "text": [
      "Prediction: tf.Tensor([[4.7332688]], shape=(1, 1), dtype=float64) True Value: [7.8]\n",
      "Prediction: tf.Tensor([[0.99563956]], shape=(1, 1), dtype=float64) True Value: [1.83]\n",
      "Prediction: tf.Tensor([[0.86601183]], shape=(1, 1), dtype=float64) True Value: [5.55111512e-17]\n",
      "Prediction: tf.Tensor([[4.67630202]], shape=(1, 1), dtype=float64) True Value: [8.]\n",
      "Prediction: tf.Tensor([[2.59478052]], shape=(1, 1), dtype=float64) True Value: [0.]\n",
      "Prediction: tf.Tensor([[2.00914667]], shape=(1, 1), dtype=float64) True Value: [0.]\n",
      "Prediction: tf.Tensor([[0.51059668]], shape=(1, 1), dtype=float64) True Value: [0.83]\n",
      "Prediction: tf.Tensor([[2.58377516]], shape=(1, 1), dtype=float64) True Value: [0.]\n",
      "Prediction: tf.Tensor([[4.36353482]], shape=(1, 1), dtype=float64) True Value: [8.]\n",
      "Prediction: tf.Tensor([[4.78812055]], shape=(1, 1), dtype=float64) True Value: [9.5]\n",
      "Prediction: tf.Tensor([[3.31495307]], shape=(1, 1), dtype=float64) True Value: [5.]\n",
      "Prediction: tf.Tensor([[1.43262729]], shape=(1, 1), dtype=float64) True Value: [3.35]\n",
      "Prediction: tf.Tensor([[0.64650941]], shape=(1, 1), dtype=float64) True Value: [0.]\n",
      "Prediction: tf.Tensor([[1.96709465]], shape=(1, 1), dtype=float64) True Value: [4.78]\n",
      "Prediction: tf.Tensor([[2.18520452]], shape=(1, 1), dtype=float64) True Value: [4.]\n",
      "Prediction: tf.Tensor([[0.42978126]], shape=(1, 1), dtype=float64) True Value: [0.]\n",
      "Prediction: tf.Tensor([[0.94800033]], shape=(1, 1), dtype=float64) True Value: [-5.55111512e-17]\n",
      "Prediction: tf.Tensor([[0.9996158]], shape=(1, 1), dtype=float64) True Value: [0.]\n",
      "Prediction: tf.Tensor([[1.47519688]], shape=(1, 1), dtype=float64) True Value: [0.]\n",
      "Prediction: tf.Tensor([[3.58712853]], shape=(1, 1), dtype=float64) True Value: [0.]\n",
      "Prediction: tf.Tensor([[0.89959178]], shape=(1, 1), dtype=float64) True Value: [0.]\n",
      "Mean Absolute Error: tf.Tensor([[1.96010458]], shape=(1, 1), dtype=float64)\n"
     ]
    }
   ],
   "source": [
    "testModel(test_set[3000:3021],model)"
   ]
  },
  {
   "cell_type": "code",
   "execution_count": 42,
   "metadata": {},
   "outputs": [
    {
     "name": "stdout",
     "output_type": "stream",
     "text": [
      "EPOCH: 0\n",
      "LOSS: tf.Tensor(1.0954170227050781, shape=(), dtype=float64)\n",
      "LOSS: tf.Tensor(0.6700652837753296, shape=(), dtype=float64)\n",
      "LOSS: tf.Tensor(0.6692762970924377, shape=(), dtype=float64)\n",
      "LOSS: tf.Tensor(0.6526451110839844, shape=(), dtype=float64)\n",
      "LOSS: tf.Tensor(0.5897113084793091, shape=(), dtype=float64)\n",
      "LOSS: tf.Tensor(0.3126004934310913, shape=(), dtype=float64)\n",
      "NAN Count: 260 Successly trained batches: 5395\n",
      "EPOCH: 1\n",
      "LOSS: tf.Tensor(0.8880847692489624, shape=(), dtype=float64)\n",
      "LOSS: tf.Tensor(0.38249534368515015, shape=(), dtype=float64)\n",
      "LOSS: tf.Tensor(0.6428633332252502, shape=(), dtype=float64)\n",
      "LOSS: tf.Tensor(0.624163806438446, shape=(), dtype=float64)\n",
      "LOSS: tf.Tensor(0.5882889032363892, shape=(), dtype=float64)\n",
      "LOSS: tf.Tensor(0.30569177865982056, shape=(), dtype=float64)\n",
      "NAN Count: 260 Successly trained batches: 5395\n",
      "EPOCH: 2\n",
      "LOSS: tf.Tensor(0.9453437328338623, shape=(), dtype=float64)\n",
      "LOSS: tf.Tensor(0.27143213152885437, shape=(), dtype=float64)\n",
      "LOSS: tf.Tensor(0.633051872253418, shape=(), dtype=float64)\n",
      "LOSS: tf.Tensor(0.6125069856643677, shape=(), dtype=float64)\n",
      "LOSS: tf.Tensor(0.5899085998535156, shape=(), dtype=float64)\n",
      "LOSS: tf.Tensor(0.3050587773323059, shape=(), dtype=float64)\n",
      "NAN Count: 260 Successly trained batches: 5395\n",
      "EPOCH: 3\n",
      "LOSS: tf.Tensor(0.966367781162262, shape=(), dtype=float64)\n",
      "LOSS: tf.Tensor(0.21566356718540192, shape=(), dtype=float64)\n",
      "LOSS: tf.Tensor(0.6297919750213623, shape=(), dtype=float64)\n",
      "LOSS: tf.Tensor(0.6057650446891785, shape=(), dtype=float64)\n",
      "LOSS: tf.Tensor(0.5930094718933105, shape=(), dtype=float64)\n",
      "LOSS: tf.Tensor(0.3054065704345703, shape=(), dtype=float64)\n",
      "NAN Count: 260 Successly trained batches: 5395\n",
      "EPOCH: 4\n",
      "LOSS: tf.Tensor(0.9687656164169312, shape=(), dtype=float64)\n",
      "LOSS: tf.Tensor(0.18453681468963623, shape=(), dtype=float64)\n",
      "LOSS: tf.Tensor(0.6282039880752563, shape=(), dtype=float64)\n",
      "LOSS: tf.Tensor(0.6004942655563354, shape=(), dtype=float64)\n",
      "LOSS: tf.Tensor(0.5963837504386902, shape=(), dtype=float64)\n",
      "LOSS: tf.Tensor(0.30551406741142273, shape=(), dtype=float64)\n",
      "NAN Count: 260 Successly trained batches: 5395\n",
      "EPOCH: 5\n",
      "LOSS: tf.Tensor(0.9661587476730347, shape=(), dtype=float64)\n",
      "LOSS: tf.Tensor(0.1655600219964981, shape=(), dtype=float64)\n",
      "LOSS: tf.Tensor(0.6281747221946716, shape=(), dtype=float64)\n",
      "LOSS: tf.Tensor(0.5966004133224487, shape=(), dtype=float64)\n",
      "LOSS: tf.Tensor(0.5988767743110657, shape=(), dtype=float64)\n",
      "LOSS: tf.Tensor(0.30491289496421814, shape=(), dtype=float64)\n",
      "NAN Count: 260 Successly trained batches: 5395\n",
      "EPOCH: 6\n",
      "LOSS: tf.Tensor(0.9641968011856079, shape=(), dtype=float64)\n",
      "LOSS: tf.Tensor(0.1526820808649063, shape=(), dtype=float64)\n",
      "LOSS: tf.Tensor(0.6290856599807739, shape=(), dtype=float64)\n",
      "LOSS: tf.Tensor(0.5941891670227051, shape=(), dtype=float64)\n",
      "LOSS: tf.Tensor(0.6010535955429077, shape=(), dtype=float64)\n",
      "LOSS: tf.Tensor(0.3040691018104553, shape=(), dtype=float64)\n",
      "NAN Count: 260 Successly trained batches: 5395\n",
      "EPOCH: 7\n",
      "LOSS: tf.Tensor(0.9603652954101562, shape=(), dtype=float64)\n",
      "LOSS: tf.Tensor(0.14267399907112122, shape=(), dtype=float64)\n",
      "LOSS: tf.Tensor(0.6303074955940247, shape=(), dtype=float64)\n",
      "LOSS: tf.Tensor(0.5930936336517334, shape=(), dtype=float64)\n",
      "LOSS: tf.Tensor(0.6028966903686523, shape=(), dtype=float64)\n",
      "LOSS: tf.Tensor(0.3036099970340729, shape=(), dtype=float64)\n",
      "NAN Count: 260 Successly trained batches: 5395\n",
      "EPOCH: 8\n",
      "LOSS: tf.Tensor(0.9571948051452637, shape=(), dtype=float64)\n",
      "LOSS: tf.Tensor(0.1356169581413269, shape=(), dtype=float64)\n",
      "LOSS: tf.Tensor(0.6319732069969177, shape=(), dtype=float64)\n",
      "LOSS: tf.Tensor(0.5924661159515381, shape=(), dtype=float64)\n",
      "LOSS: tf.Tensor(0.6041277647018433, shape=(), dtype=float64)\n",
      "LOSS: tf.Tensor(0.30283892154693604, shape=(), dtype=float64)\n",
      "NAN Count: 260 Successly trained batches: 5395\n",
      "EPOCH: 9\n",
      "LOSS: tf.Tensor(0.9531046748161316, shape=(), dtype=float64)\n",
      "LOSS: tf.Tensor(0.13013577461242676, shape=(), dtype=float64)\n",
      "LOSS: tf.Tensor(0.632999062538147, shape=(), dtype=float64)\n",
      "LOSS: tf.Tensor(0.5920459032058716, shape=(), dtype=float64)\n",
      "LOSS: tf.Tensor(0.6047000885009766, shape=(), dtype=float64)\n",
      "LOSS: tf.Tensor(0.3020898699760437, shape=(), dtype=float64)\n",
      "NAN Count: 260 Successly trained batches: 5395\n"
     ]
    }
   ],
   "source": [
    "model = tf.keras.Sequential([\n",
    "    tf.keras.layers.Dense(256, input_dim = 58,activation='relu'),\n",
    "    tf.keras.layers.Dense(128,activation='relu'),\n",
    "    tf.keras.layers.Dense(64),\n",
    "    tf.keras.layers.Dense(1)\n",
    "])\n",
    "\n",
    "for i in range(10):\n",
    "    print(\"EPOCH: \"+str(i))\n",
    "    train_epoch(model)\n",
    "    "
   ]
  },
  {
   "cell_type": "code",
   "execution_count": 43,
   "metadata": {},
   "outputs": [
    {
     "name": "stdout",
     "output_type": "stream",
     "text": [
      "Prediction: tf.Tensor([[4.92573785]], shape=(1, 1), dtype=float64) True Value: [6.]\n",
      "Prediction: tf.Tensor([[1.14519119]], shape=(1, 1), dtype=float64) True Value: [-5.55111512e-17]\n",
      "Prediction: tf.Tensor([[4.64413016]], shape=(1, 1), dtype=float64) True Value: [7.5]\n",
      "Prediction: tf.Tensor([[2.0134711]], shape=(1, 1), dtype=float64) True Value: [3.5]\n",
      "Prediction: tf.Tensor([[1.98581242]], shape=(1, 1), dtype=float64) True Value: [0.]\n",
      "Prediction: tf.Tensor([[2.15978322]], shape=(1, 1), dtype=float64) True Value: [2.]\n",
      "Prediction: tf.Tensor([[5.46744123]], shape=(1, 1), dtype=float64) True Value: [8.]\n",
      "Prediction: tf.Tensor([[4.45836357]], shape=(1, 1), dtype=float64) True Value: [7.5]\n",
      "Prediction: tf.Tensor([[3.48950905]], shape=(1, 1), dtype=float64) True Value: [0.]\n",
      "Prediction: tf.Tensor([[2.13621282]], shape=(1, 1), dtype=float64) True Value: [0.]\n",
      "Mean Absolute Error: tf.Tensor([[1.99073648]], shape=(1, 1), dtype=float64)\n"
     ]
    }
   ],
   "source": [
    "testModel(test_set[50:60],model)"
   ]
  },
  {
   "cell_type": "code",
   "execution_count": 44,
   "metadata": {},
   "outputs": [
    {
     "name": "stdout",
     "output_type": "stream",
     "text": [
      "Prediction: tf.Tensor([[8.41947501]], shape=(1, 1), dtype=float64) True Value: [12.]\n",
      "Prediction: tf.Tensor([[5.80485448]], shape=(1, 1), dtype=float64) True Value: [6.5]\n",
      "Prediction: tf.Tensor([[9.52972942]], shape=(1, 1), dtype=float64) True Value: [6.4]\n",
      "Prediction: tf.Tensor([[6.6188204]], shape=(1, 1), dtype=float64) True Value: [7.5]\n",
      "Prediction: tf.Tensor([[3.73537961]], shape=(1, 1), dtype=float64) True Value: [6.]\n",
      "Prediction: tf.Tensor([[5.60549868]], shape=(1, 1), dtype=float64) True Value: [7.25]\n",
      "Prediction: tf.Tensor([[5.95246408]], shape=(1, 1), dtype=float64) True Value: [7.25]\n",
      "Prediction: tf.Tensor([[6.18860879]], shape=(1, 1), dtype=float64) True Value: [10.6]\n",
      "Prediction: tf.Tensor([[4.84722307]], shape=(1, 1), dtype=float64) True Value: [7.5]\n",
      "Prediction: tf.Tensor([[8.8576453]], shape=(1, 1), dtype=float64) True Value: [11.5]\n",
      "Mean Absolute Error: tf.Tensor([[2.319976]], shape=(1, 1), dtype=float64)\n"
     ]
    }
   ],
   "source": [
    "testModel(test_set[8000:8010],model)"
   ]
  },
  {
   "cell_type": "code",
   "execution_count": null,
   "metadata": {},
   "outputs": [],
   "source": []
  }
 ],
 "metadata": {
  "kernelspec": {
   "display_name": "Python 3",
   "language": "python",
   "name": "python3"
  },
  "language_info": {
   "codemirror_mode": {
    "name": "ipython",
    "version": 3
   },
   "file_extension": ".py",
   "mimetype": "text/x-python",
   "name": "python",
   "nbconvert_exporter": "python",
   "pygments_lexer": "ipython3",
   "version": "3.8.5"
  }
 },
 "nbformat": 4,
 "nbformat_minor": 4
}
