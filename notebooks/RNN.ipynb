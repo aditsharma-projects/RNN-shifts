{
 "cells": [
  {
   "cell_type": "code",
   "execution_count": null,
   "metadata": {},
   "outputs": [],
   "source": [
    "import pandas as pd\n",
    "import time\n",
    "import tensorflow as tf\n",
    "\n",
    "def normalize(dataset):\n",
    "    seriesIndices = ['hours']\n",
    "    for i in range(1,31):\n",
    "        seriesIndices.append(f\"hours_l{i}\")\n",
    "    dataset[seriesIndices] = dataset[seriesIndices].apply(lambda x: (x - x.mean()) / (x.std()))\n",
    "    return dataset\n",
    "\n",
    "include_fields = ['prov_id','hours','day_of_week','week_perc0','week_perc6']\n",
    "for i in range(1,31):\n",
    "    include_fields.append(f\"hours_l{i}\")\n",
    "\n",
    "startTime = time.time()\n",
    "train = pd.read_csv(\"/export/storage_adgandhi/PBJhours_ML/Data/Intermediate/train_test_validation/training_set.csv\",usecols=include_fields).dropna()\n",
    "val = pd.read_csv(\"/export/storage_adgandhi/PBJhours_ML/Data/Intermediate/train_test_validation/validation_set.csv\",usecols=include_fields).dropna()\n",
    "print(f\"Loaded Train and Validation Sets. Time taken: {time.time()-startTime}\")"
   ]
  },
  {
   "cell_type": "code",
   "execution_count": null,
   "metadata": {},
   "outputs": [],
   "source": [
    "#shuffle all data values so prov id distribution is same for train/val\n",
    "import numpy as np\n",
    "temp = pd.concat([train,val])\n",
    "#Convert provider id's into dense representation\n",
    "provider_map = {}\n",
    "index = 0\n",
    "for element in temp['prov_id'].unique():\n",
    "    provider_map[element]=index\n",
    "    index +=1\n",
    "temp['prov_id'] = temp['prov_id'].map(provider_map)\n",
    "\n",
    "np.random.shuffle(temp.values)\n",
    "train = temp[:train.shape[0]]\n",
    "val = temp[val.shape[0]:]\n",
    "vocab_size = len(temp['prov_id'].unique())"
   ]
  },
  {
   "cell_type": "code",
   "execution_count": null,
   "metadata": {},
   "outputs": [],
   "source": [
    "train_inputs, train_labels = train.drop(['hours'], axis=1), train.filter(['hours'])\n",
    "val_inputs, val_labels = val.drop(['hours'], axis=1), val.filter(['hours'])\n",
    "#test_inputs, test_labels = test.drop(['hours'], axis=1), test.filter(['hours'])"
   ]
  },
  {
   "cell_type": "code",
   "execution_count": null,
   "metadata": {},
   "outputs": [],
   "source": [
    "def expand_one_hot(labels,dataset):\n",
    "    outList = []\n",
    "    for label in labels:  \n",
    "        col = dataset[label]\n",
    "        ###Generate a dict for all unique values (Don't waste space encoding non important job id's)\n",
    "        map = {}\n",
    "        index = 0\n",
    "        for element in col.unique():\n",
    "            map[element] = index\n",
    "            index += 1\n",
    "        col = col.map(map)\n",
    "        tensor = tf.one_hot(col,len(col.unique()))\n",
    "        outList.append(tensor)\n",
    "        dataset = dataset.drop(columns=[label])\n",
    "    \n",
    "    outList.insert(0,dataset)\n",
    "    output = tf.concat(outList,1)\n",
    "    return output\n",
    "\n",
    "train_inputs = expand_one_hot(['day_of_week'],train_inputs)\n",
    "val_inputs = expand_one_hot(['day_of_week'],val_inputs)\n",
    "#test_inputs = expand_one_hot(['day_of_week'],test_inputs)\n",
    "\n",
    "print(train_inputs.shape)\n",
    "print(train_inputs[0])"
   ]
  },
  {
   "cell_type": "code",
   "execution_count": 5,
   "metadata": {},
   "outputs": [
    {
     "name": "stdout",
     "output_type": "stream",
     "text": [
      "<BatchDataset shapes: ((None, 40), (None, 1)), types: (tf.float32, tf.float64)>\n"
     ]
    }
   ],
   "source": [
    "BUFFER_SIZE = 10000\n",
    "BATCH_SIZE = 256\n",
    "trainSet = tf.data.Dataset.from_tensor_slices((train_inputs,train_labels)).shuffle(BUFFER_SIZE).batch(BATCH_SIZE)\n",
    "valSet = tf.data.Dataset.from_tensor_slices((val_inputs,val_labels)).shuffle(BUFFER_SIZE).batch(BATCH_SIZE)\n",
    "#testSet = tf.data.Dataset.from_tensor_slices((test_inputs,test_labels)).shuffle(BUFFER_SIZE).batch(BATCH_SIZE)\n",
    "print(trainSet)"
   ]
  },
  {
   "cell_type": "code",
   "execution_count": 6,
   "metadata": {},
   "outputs": [],
   "source": [
    "class RNN(tf.keras.Model):\n",
    "\n",
    "    def __init__(self,vocab_size):\n",
    "        super(RNN, self).__init__()\n",
    "        self.embedding = tf.keras.layers.Embedding(vocab_size,100)\n",
    "        self.lstm = tf.keras.layers.LSTM(64)\n",
    "        self.dense1 = tf.keras.layers.Dense(64, activation=tf.nn.relu)\n",
    "        self.dense2 = tf.keras.layers.Dense(64, activation=tf.nn.relu)\n",
    "        self.out = tf.keras.layers.Dense(1)\n",
    "        self.dropout = tf.keras.layers.Dropout(0.5)\n",
    "\n",
    "    def call(self, inputs, training=False):\n",
    "        #prov_id is first column\n",
    "        embedding_vectors = self.embedding(inputs[:,0])\n",
    "        time_series = tf.expand_dims(inputs[:,1:31],2)\n",
    "        additional_inputs = inputs[:,31:]\n",
    "\n",
    "        x = self.lstm(time_series)\n",
    "        x = tf.concat([x,embedding_vectors,additional_inputs],1)\n",
    "        x = self.dense1(x)\n",
    "        if training:\n",
    "            x = self.dropout(x, training=training)\n",
    "        x = self.dense2(x)\n",
    "        if training:\n",
    "            x = self.dropout(x, training=training)\n",
    "       \n",
    "        return self.out(x)\n",
    "\n",
    "model = RNN(vocab_size)\n",
    "    \n",
    "model.compile(loss=tf.keras.losses.MeanSquaredError(),\n",
    "        optimizer=tf.keras.optimizers.Adam(),\n",
    "        metrics=[tf.keras.metrics.MeanAbsoluteError()])"
   ]
  },
  {
   "cell_type": "code",
   "execution_count": 7,
   "metadata": {},
   "outputs": [],
   "source": [
    "import os\n",
    "checkpoint_dir = './training_checkpointsRNN'\n",
    "checkpoint_prefix = os.path.join(checkpoint_dir, \"ckpt_{epoch+6}\")\n",
    "\n",
    "def decay(epoch):\n",
    "  if epoch < 3:\n",
    "    return 1e-4\n",
    "  elif epoch >= 3 and epoch < 7:\n",
    "    return 1e-5\n",
    "  else:\n",
    "    return 1e-6\n",
    "\n",
    "callbacks = [\n",
    "    tf.keras.callbacks.ModelCheckpoint(filepath=checkpoint_prefix,save_weights_only=True),\n",
    "    tf.keras.callbacks.LearningRateScheduler(decay)\n",
    "]\n",
    "model.load_weights(tf.train.latest_checkpoint(checkpoint_dir))"
   ]
  },
  {
   "cell_type": "code",
   "execution_count": null,
   "metadata": {},
   "outputs": [
    {
     "name": "stdout",
     "output_type": "stream",
     "text": [
      "Epoch 1/10\n",
      "487865/487865 [==============================] - 20407s 42ms/step - loss: 9.5664 - mean_absolute_error: 2.1566 - val_loss: 10.0772 - val_mean_absolute_error: 2.3264\n",
      "Epoch 2/10\n",
      "487865/487865 [==============================] - 20070s 41ms/step - loss: 9.0380 - mean_absolute_error: 2.0563 - val_loss: 10.1438 - val_mean_absolute_error: 2.3515\n",
      "Epoch 3/10\n",
      "487865/487865 [==============================] - 20058s 41ms/step - loss: 9.0262 - mean_absolute_error: 2.0548 - val_loss: 9.9914 - val_mean_absolute_error: 2.3360\n",
      "Epoch 4/10\n",
      "487865/487865 [==============================] - 19282s 40ms/step - loss: 9.0214 - mean_absolute_error: 2.0504 - val_loss: 9.9253 - val_mean_absolute_error: 2.2957\n",
      "Epoch 5/10\n",
      "487865/487865 [==============================] - 20134s 41ms/step - loss: 8.9757 - mean_absolute_error: 2.0426 - val_loss: 9.9223 - val_mean_absolute_error: 2.3031\n",
      "Epoch 6/10\n",
      "487865/487865 [==============================] - 20464s 42ms/step - loss: 8.9614 - mean_absolute_error: 2.0402 - val_loss: 9.8518 - val_mean_absolute_error: 2.2751\n",
      "Epoch 7/10\n",
      "  1219/487865 [..............................] - ETA: 4:15:20 - loss: 8.4573 - mean_absolute_error: 2.0262"
     ]
    }
   ],
   "source": [
    "model.fit(trainSet, epochs=10, callbacks=callbacks, validation_data=valSet)"
   ]
  },
  {
   "cell_type": "code",
   "execution_count": null,
   "metadata": {},
   "outputs": [],
   "source": []
  }
 ],
 "metadata": {
  "kernelspec": {
   "display_name": "Python 3.8.6",
   "language": "python",
   "name": "testproject"
  },
  "language_info": {
   "codemirror_mode": {
    "name": "ipython",
    "version": 3
   },
   "file_extension": ".py",
   "mimetype": "text/x-python",
   "name": "python",
   "nbconvert_exporter": "python",
   "pygments_lexer": "ipython3",
   "version": "3.8.6"
  }
 },
 "nbformat": 4,
 "nbformat_minor": 4
}
