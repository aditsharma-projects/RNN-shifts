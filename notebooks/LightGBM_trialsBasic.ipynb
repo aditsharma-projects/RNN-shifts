{
 "cells": [
  {
   "cell_type": "code",
   "execution_count": null,
   "metadata": {},
   "outputs": [
    {
     "name": "stdout",
     "output_type": "stream",
     "text": [
      "Loading preprocessed data from '/users/facsupport/asharma/Data/testpbj_nrows_500000_zeros_prev_shifts_30_dow_fac.csv'...\n",
      "Failed.\n",
      "Loading data...\n",
      "Filling missing shifts...\n",
      "Adding previous shifts...\n"
     ]
    }
   ],
   "source": [
    "import sys\n",
    "sys.path.insert(1, '/users/facsupport/asharma/RNN-shifts/preprocessing')\n",
    "\n",
    "from data_prep import initial_preprocess\n",
    "\n",
    "### Generate dataset\n",
    "\n",
    "RAW_DATA_PATH = '/export/storage_adgandhi/PBJ_data_prep/pbj_full.csv'\n",
    "PREPROCESSED_DIR = '/users/facsupport/asharma/Data/test'\n",
    "\n",
    "df, info = initial_preprocess(\n",
    "    RAW_DATA_PATH, PREPROCESSED_DIR,\n",
    "    nrows=500000,  \n",
    "    fill_missing_shifts=True,\n",
    "    normalize=False,\n",
    "    day_of_week=True,\n",
    "    prev_shifts=30,\n",
    "    fac_data=True\n",
    ")\n",
    "df\n",
    "print(df.columns)"
   ]
  },
  {
   "cell_type": "code",
   "execution_count": 75,
   "metadata": {},
   "outputs": [
    {
     "name": "stdout",
     "output_type": "stream",
     "text": [
      "       t_1   t_2   t_3   t_4   t_5   t_6   t_7   t_8   t_9  t_10  ...  t_30  \\\n",
      "0     9.25  8.75  0.00  0.00  8.75  9.00  9.25  8.50  8.75  0.00  ...  8.75   \n",
      "1     9.25  9.25  8.75  0.00  0.00  8.75  9.00  9.25  8.50  8.75  ...  9.50   \n",
      "2     8.50  9.25  9.25  8.75  0.00  0.00  8.75  9.00  9.25  8.50  ...  8.00   \n",
      "3     8.25  8.50  9.25  9.25  8.75  0.00  0.00  8.75  9.00  9.25  ...  0.00   \n",
      "4     0.00  8.25  8.50  9.25  9.25  8.75  0.00  0.00  8.75  9.00  ...  8.50   \n",
      "...    ...   ...   ...   ...   ...   ...   ...   ...   ...   ...  ...   ...   \n",
      "7933  0.00  8.00  8.75  0.00  8.50  0.00  0.00  8.50  8.25  8.25  ...  7.75   \n",
      "7934  0.00  0.00  8.00  8.75  0.00  8.50  0.00  0.00  8.50  8.25  ...  0.00   \n",
      "7935  7.75  0.00  0.00  8.00  8.75  0.00  8.50  0.00  0.00  8.50  ...  0.00   \n",
      "7936  8.50  7.75  0.00  0.00  8.00  8.75  0.00  8.50  0.00  0.00  ...  8.25   \n",
      "7937  0.00  8.50  7.75  0.00  0.00  8.00  8.75  0.00  8.50  0.00  ...  9.75   \n",
      "\n",
      "      job_title  prov_id  pay_type  day_of_week  nresid  multifac  profit  \\\n",
      "0            35        1         3            2    51.0         0       1   \n",
      "1            35        1         3            3    51.0         0       1   \n",
      "2            35        1         3            4    51.0         0       1   \n",
      "3            35        1         3            5    51.0         0       1   \n",
      "4            35        1         3            6    51.0         0       1   \n",
      "...         ...      ...       ...          ...     ...       ...     ...   \n",
      "7933         11        2         3            4    69.0         0       1   \n",
      "7934         11        2         3            5    69.0         0       1   \n",
      "7935         11        2         3            6    69.0         0       1   \n",
      "7936         11        2         3            0    69.0         0       1   \n",
      "7937         11        2         3            1    69.0         0       1   \n",
      "\n",
      "      avg_dailycensus  sd_dailycensus  \n",
      "0               34.10           11.23  \n",
      "1               34.10           11.23  \n",
      "2               34.10           11.23  \n",
      "3               34.10           11.23  \n",
      "4               34.10           11.23  \n",
      "...               ...             ...  \n",
      "7933            55.91           19.32  \n",
      "7934            55.91           19.32  \n",
      "7935            55.91           19.32  \n",
      "7936            55.91           19.32  \n",
      "7937            55.91           19.32  \n",
      "\n",
      "[5341 rows x 39 columns]\n",
      "       t_0\n",
      "0     9.25\n",
      "1     8.50\n",
      "2     8.25\n",
      "3     0.00\n",
      "4     0.00\n",
      "...    ...\n",
      "7933  0.00\n",
      "7934  7.75\n",
      "7935  8.50\n",
      "7936  0.00\n",
      "7937  8.25\n",
      "\n",
      "[5341 rows x 1 columns]\n"
     ]
    }
   ],
   "source": [
    "import pandas as pd\n",
    "import lightgbm as lgb\n",
    "\n",
    "# Keep \"interesting\" jobs (TODO - use strings instead)\n",
    "df = df[df['job_title'].isin([33,34,35,11,12,3,5,16,17])]\n",
    "df['date'] = pd.to_datetime(df['date']).astype(int)\n",
    "# Convert necessary values to boolean\n",
    "df.multifac = df.multifac.map(dict(Yes=1, No=0))\n",
    "df.profit = df.profit.map(dict(Yes=1, No=0))\n",
    "#Drop employee id and date columns\n",
    "df = df.drop(columns=['employee_id','date'])\n",
    "\n",
    "# %%\n",
    "# ========================================\n",
    "#          SPLIT & PREP DATAFRAME\n",
    "# ========================================\n",
    "\n",
    "inputs = df.drop(['t_0', 'hours'], axis=1)\n",
    "labels = df.filter(['t_0'])\n",
    "\n",
    "# Weights to split data set\n",
    "TRAINING_WEIGHT = 0.7\n",
    "VALIDATION_WEIGHT = 0.2\n",
    "TEST_WEIGHT = 0.1\n",
    "\n",
    "n = len(df)\n",
    "weights_sum = TRAINING_WEIGHT + VALIDATION_WEIGHT + TEST_WEIGHT\n",
    "split1 = int(TRAINING_WEIGHT / weights_sum * n)\n",
    "split2 = int((TRAINING_WEIGHT + VALIDATION_WEIGHT) / weights_sum * n)\n",
    "\n",
    "train_inputs, train_labels = inputs[:split1], labels[:split1]\n",
    "val_inputs, val_labels = inputs[split1:split2], labels[split1:split2]\n",
    "test_inputs, test_labels = inputs[split2:], labels[split2:]\n",
    "\n",
    "print(train_inputs)\n",
    "print(train_labels)\n"
   ]
  },
  {
   "cell_type": "code",
   "execution_count": 76,
   "metadata": {},
   "outputs": [
    {
     "name": "stdout",
     "output_type": "stream",
     "text": [
      "<lightgbm.basic.Dataset object at 0x7fa95b9a2640>\n"
     ]
    }
   ],
   "source": [
    "# %%\n",
    "# ========================================\n",
    "#          DATAFRAME TO LGB DS\n",
    "# ========================================\n",
    "\n",
    "cats = ['job_title', 'prov_id', 'pay_type', 'day_of_week', 'nresid', 'multifac', 'profit']\n",
    "\n",
    "train_data = lgb.Dataset(train_inputs, label=train_labels, categorical_feature=cats)\n",
    "val_data = lgb.Dataset(val_inputs, label=val_labels, categorical_feature=cats)\n",
    "test_data = lgb.Dataset(test_inputs, label=test_labels, categorical_feature=cats)\n",
    "print(train_data)"
   ]
  },
  {
   "cell_type": "code",
   "execution_count": 77,
   "metadata": {},
   "outputs": [
    {
     "name": "stderr",
     "output_type": "stream",
     "text": [
      "/users/facsupport/asharma/anaconda3/lib/python3.8/site-packages/lightgbm/basic.py:1551: UserWarning: Using categorical_feature in Dataset.\n",
      "  warnings.warn('Using categorical_feature in Dataset.')\n"
     ]
    },
    {
     "name": "stdout",
     "output_type": "stream",
     "text": [
      "[LightGBM] [Warning] Auto-choosing col-wise multi-threading, the overhead of testing was 0.123016 seconds.\n",
      "You can set `force_col_wise=true` to remove the overhead.\n",
      "[LightGBM] [Info] Total Bins 2574\n",
      "[LightGBM] [Info] Number of data points in the train set: 5341, number of used features: 37\n",
      "[LightGBM] [Info] Start training from score 4.445920\n"
     ]
    },
    {
     "name": "stderr",
     "output_type": "stream",
     "text": [
      "/users/facsupport/asharma/anaconda3/lib/python3.8/site-packages/lightgbm/basic.py:1286: UserWarning: Overriding the parameters from Reference Dataset.\n",
      "  warnings.warn('Overriding the parameters from Reference Dataset.')\n",
      "/users/facsupport/asharma/anaconda3/lib/python3.8/site-packages/lightgbm/basic.py:1098: UserWarning: categorical_column in param dict is overridden.\n",
      "  warnings.warn('{} in param dict is overridden.'.format(cat_alias))\n"
     ]
    },
    {
     "name": "stdout",
     "output_type": "stream",
     "text": [
      "[1]\tvalid_0's l2: 14.0551\n",
      "Training until validation scores don't improve for 5 rounds\n",
      "[2]\tvalid_0's l2: 13.239\n",
      "[3]\tvalid_0's l2: 12.5551\n",
      "[4]\tvalid_0's l2: 12.0198\n",
      "[5]\tvalid_0's l2: 11.5619\n",
      "[6]\tvalid_0's l2: 11.2419\n",
      "[7]\tvalid_0's l2: 10.9603\n",
      "[8]\tvalid_0's l2: 10.694\n",
      "[9]\tvalid_0's l2: 10.4255\n",
      "[10]\tvalid_0's l2: 10.2467\n",
      "[11]\tvalid_0's l2: 10.0986\n",
      "[12]\tvalid_0's l2: 9.96372\n",
      "[13]\tvalid_0's l2: 9.88655\n",
      "[14]\tvalid_0's l2: 9.78982\n",
      "[15]\tvalid_0's l2: 9.71529\n",
      "[16]\tvalid_0's l2: 9.63039\n",
      "[17]\tvalid_0's l2: 9.58489\n",
      "[18]\tvalid_0's l2: 9.5856\n",
      "[19]\tvalid_0's l2: 9.54084\n",
      "[20]\tvalid_0's l2: 9.50515\n",
      "[21]\tvalid_0's l2: 9.49167\n",
      "[22]\tvalid_0's l2: 9.47558\n",
      "[23]\tvalid_0's l2: 9.41362\n",
      "[24]\tvalid_0's l2: 9.40099\n",
      "[25]\tvalid_0's l2: 9.36674\n",
      "[26]\tvalid_0's l2: 9.35547\n",
      "[27]\tvalid_0's l2: 9.35792\n",
      "[28]\tvalid_0's l2: 9.34988\n",
      "[29]\tvalid_0's l2: 9.3401\n",
      "[30]\tvalid_0's l2: 9.3473\n",
      "[31]\tvalid_0's l2: 9.32129\n",
      "[32]\tvalid_0's l2: 9.29619\n",
      "[33]\tvalid_0's l2: 9.29349\n",
      "[34]\tvalid_0's l2: 9.30063\n",
      "[35]\tvalid_0's l2: 9.30691\n",
      "[36]\tvalid_0's l2: 9.26362\n",
      "[37]\tvalid_0's l2: 9.24467\n",
      "[38]\tvalid_0's l2: 9.22452\n",
      "[39]\tvalid_0's l2: 9.21148\n",
      "[40]\tvalid_0's l2: 9.22117\n",
      "[41]\tvalid_0's l2: 9.22709\n",
      "[42]\tvalid_0's l2: 9.22841\n",
      "[43]\tvalid_0's l2: 9.24281\n",
      "[44]\tvalid_0's l2: 9.25045\n",
      "Early stopping, best iteration is:\n",
      "[39]\tvalid_0's l2: 9.21148\n"
     ]
    }
   ],
   "source": [
    "# %%\n",
    "# ========================================\n",
    "#            TRAIN WITH LGB\n",
    "# ========================================\n",
    "param = {\n",
    "  'num_leaves': 100,\n",
    "  'learning_rate': 0.1,\n",
    "  'metric': 'mse',\n",
    "}\n",
    "evals_result = {}\n",
    "bst = lgb.train(param, train_data, valid_sets=[val_data], evals_result=evals_result, early_stopping_rounds=5)"
   ]
  },
  {
   "cell_type": "code",
   "execution_count": 78,
   "metadata": {},
   "outputs": [
    {
     "data": {
      "image/png": "[encoded data removed]",
      "text/plain": [
       "<Figure size 720x720 with 1 Axes>"
      ]
     },
     "metadata": {
      "needs_background": "light"
     },
     "output_type": "display_data"
    }
   ],
   "source": [
    "# %%\n",
    "# =========================================\n",
    "#          LGB Influence Scores\n",
    "# =========================================\n",
    "\n",
    "axes = lgb.plot_importance(bst,figsize=(10,10))"
   ]
  },
  {
   "cell_type": "code",
   "execution_count": null,
   "metadata": {},
   "outputs": [],
   "source": []
  }
 ],
 "metadata": {
  "kernelspec": {
   "display_name": "Python 3",
   "language": "python",
   "name": "python3"
  },
  "language_info": {
   "codemirror_mode": {
    "name": "ipython",
    "version": 3
   },
   "file_extension": ".py",
   "mimetype": "text/x-python",
   "name": "python",
   "nbconvert_exporter": "python",
   "pygments_lexer": "ipython3",
   "version": "3.8.5"
  }
 },
 "nbformat": 4,
 "nbformat_minor": 4
}
