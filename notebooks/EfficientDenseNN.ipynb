{
 "cells": [
  {
   "cell_type": "code",
   "execution_count": 1,
   "metadata": {},
   "outputs": [
    {
     "name": "stdout",
     "output_type": "stream",
     "text": [
      "Loaded Train and Validation sets. Time taken: 331.31281065940857\n"
     ]
    }
   ],
   "source": [
    "import pandas as pd\n",
    "import time\n",
    "import tensorflow as tf\n",
    "\n",
    "\n",
    "def normalize(dataset):\n",
    "    seriesIndices = ['hours']\n",
    "    for i in range(1,31):\n",
    "        seriesIndices.append(f\"hours_l{i}\")\n",
    "    dataset[seriesIndices] = dataset[seriesIndices].apply(lambda x: (x - x.mean()) / (x.std()))\n",
    "    return dataset\n",
    "\n",
    "include_fields = ['hours','day_of_week','hours_l1','hours_l2','hours_l3','hours_l4',\n",
    "                  'hours_l5','hours_l6','hours_l7','hours_l8','hours_l14','hours_l15',\n",
    "                  'hours_l21','hours_l22','hours_l28','hours_l29','week_perc0','week_perc6']\n",
    "\n",
    "startTime = time.time()\n",
    "train = pd.read_csv(\"/export/storage_adgandhi/PBJhours_ML/Data/Intermediate/train_test_validation/training_set.csv\",usecols=include_fields).dropna()\n",
    "val = pd.read_csv(\"/export/storage_adgandhi/PBJhours_ML/Data/Intermediate/train_test_validation/validation_set.csv\",usecols=include_fields).dropna()\n",
    "print(f\"Loaded Train and Validation sets. Time taken: {time.time()-startTime}\")"
   ]
  },
  {
   "cell_type": "code",
   "execution_count": 2,
   "metadata": {},
   "outputs": [],
   "source": [
    "train_inputs, train_labels = train.drop(['hours'], axis=1), train.filter(['hours'])\n",
    "val_inputs, val_labels = val.drop(['hours'], axis=1), val.filter(['hours'])\n",
    "\n",
    "#test_inputs, test_labels = test.drop(['hours'], axis=1), test.filter(['hours'])"
   ]
  },
  {
   "cell_type": "code",
   "execution_count": 3,
   "metadata": {},
   "outputs": [
    {
     "name": "stdout",
     "output_type": "stream",
     "text": [
      "(125197363, 23)\n"
     ]
    }
   ],
   "source": [
    "def expand_one_hot(labels,dataset):\n",
    "    outList = []\n",
    "    for label in labels:  \n",
    "        col = dataset[label]\n",
    "        ###Generate a dict for all unique values (Don't waste space encoding non important job id's)\n",
    "        map = {}\n",
    "        index = 0\n",
    "        for element in col.unique():\n",
    "            map[element] = index\n",
    "            index += 1\n",
    "        col = col.map(map)\n",
    "        tensor = tf.one_hot(col,len(col.unique()))\n",
    "        outList.append(tensor)\n",
    "        dataset = dataset.drop(columns=[label])\n",
    "    \n",
    "    outList.append(dataset)\n",
    "    output = tf.concat(outList,1)\n",
    "    return output\n",
    "\n",
    "train_inputs = expand_one_hot(['day_of_week'],train_inputs)\n",
    "val_inputs = expand_one_hot(['day_of_week'],val_inputs)\n",
    "#test_inputs = expand_one_hot(['day_of_week'],test_inputs)\n",
    "\n",
    "print(train_inputs.shape)"
   ]
  },
  {
   "cell_type": "code",
   "execution_count": 4,
   "metadata": {},
   "outputs": [
    {
     "name": "stdout",
     "output_type": "stream",
     "text": [
      "INFO:tensorflow:Using MirroredStrategy with devices ('/job:localhost/replica:0/task:0/device:GPU:0',)\n",
      "Number of devices: 1\n",
      "<BatchDataset shapes: ((None, 23), (None, 1)), types: (tf.float32, tf.float64)>\n"
     ]
    }
   ],
   "source": [
    "strategy = tf.distribute.MirroredStrategy()\n",
    "BUFFER_SIZE = 10000\n",
    "print('Number of devices: {}'.format(strategy.num_replicas_in_sync))\n",
    "BATCH_SIZE_PER_REPLICA = 256\n",
    "BATCH_SIZE = BATCH_SIZE_PER_REPLICA * strategy.num_replicas_in_sync\n",
    "trainSet = tf.data.Dataset.from_tensor_slices((train_inputs,train_labels)).shuffle(BUFFER_SIZE).batch(BATCH_SIZE)\n",
    "valSet = tf.data.Dataset.from_tensor_slices((val_inputs,val_labels)).shuffle(BUFFER_SIZE).batch(BATCH_SIZE)\n",
    "#testSet = tf.data.Dataset.from_tensor_slices((test_inputs,test_labels)).shuffle(BUFFER_SIZE).batch(BATCH_SIZE)\n",
    "print(trainSet)"
   ]
  },
  {
   "cell_type": "code",
   "execution_count": 5,
   "metadata": {},
   "outputs": [
    {
     "name": "stdout",
     "output_type": "stream",
     "text": [
      "INFO:tensorflow:Reduce to /job:localhost/replica:0/task:0/device:CPU:0 then broadcast to ('/job:localhost/replica:0/task:0/device:CPU:0',).\n",
      "INFO:tensorflow:Reduce to /job:localhost/replica:0/task:0/device:CPU:0 then broadcast to ('/job:localhost/replica:0/task:0/device:CPU:0',).\n",
      "INFO:tensorflow:Reduce to /job:localhost/replica:0/task:0/device:CPU:0 then broadcast to ('/job:localhost/replica:0/task:0/device:CPU:0',).\n",
      "INFO:tensorflow:Reduce to /job:localhost/replica:0/task:0/device:CPU:0 then broadcast to ('/job:localhost/replica:0/task:0/device:CPU:0',).\n",
      "INFO:tensorflow:Reduce to /job:localhost/replica:0/task:0/device:CPU:0 then broadcast to ('/job:localhost/replica:0/task:0/device:CPU:0',).\n",
      "INFO:tensorflow:Reduce to /job:localhost/replica:0/task:0/device:CPU:0 then broadcast to ('/job:localhost/replica:0/task:0/device:CPU:0',).\n",
      "INFO:tensorflow:Reduce to /job:localhost/replica:0/task:0/device:CPU:0 then broadcast to ('/job:localhost/replica:0/task:0/device:CPU:0',).\n",
      "INFO:tensorflow:Reduce to /job:localhost/replica:0/task:0/device:CPU:0 then broadcast to ('/job:localhost/replica:0/task:0/device:CPU:0',).\n"
     ]
    }
   ],
   "source": [
    "with strategy.scope():\n",
    "    model = tf.keras.Sequential([\n",
    "        tf.keras.layers.Dense(64,activation='relu'),\n",
    "        tf.keras.layers.Dropout(0.3),\n",
    "        tf.keras.layers.Dense(64,activation='relu'),\n",
    "        tf.keras.layers.Dropout(0.5),\n",
    "        tf.keras.layers.Dense(64,activation='relu'),\n",
    "        tf.keras.layers.Dense(1),\n",
    "    ])\n",
    "    \n",
    "    model.compile(loss=tf.keras.losses.MeanSquaredError(),\n",
    "                optimizer=tf.keras.optimizers.Adam(),\n",
    "                metrics=[tf.keras.metrics.MeanAbsoluteError()])"
   ]
  },
  {
   "cell_type": "code",
   "execution_count": 6,
   "metadata": {},
   "outputs": [],
   "source": [
    "import os\n",
    "checkpoint_dir = './training_checkpointsEfficientModel'\n",
    "checkpoint_prefix = os.path.join(checkpoint_dir, \"ckpt_{epoch}\")\n",
    "\n",
    "def decay(epoch):\n",
    "  if epoch < 3:\n",
    "    return 1e-3\n",
    "  elif epoch >= 3 and epoch < 7:\n",
    "    return 1e-4\n",
    "  else:\n",
    "    return 1e-5\n",
    "\n",
    "callbacks = [\n",
    "    tf.keras.callbacks.ModelCheckpoint(filepath=checkpoint_prefix,save_weights_only=True),\n",
    "    tf.keras.callbacks.LearningRateScheduler(decay)\n",
    "]\n"
   ]
  },
  {
   "cell_type": "code",
   "execution_count": 7,
   "metadata": {},
   "outputs": [
    {
     "name": "stdout",
     "output_type": "stream",
     "text": [
      "Epoch 1/10\n",
      "INFO:tensorflow:Reduce to /job:localhost/replica:0/task:0/device:CPU:0 then broadcast to ('/job:localhost/replica:0/task:0/device:CPU:0',).\n",
      "INFO:tensorflow:Reduce to /job:localhost/replica:0/task:0/device:CPU:0 then broadcast to ('/job:localhost/replica:0/task:0/device:CPU:0',).\n",
      "489053/489053 [==============================] - 1464s 3ms/step - loss: 10.1614 - mean_absolute_error: 2.2185 - val_loss: 11.6420 - val_mean_absolute_error: 2.6426\n",
      "Epoch 2/10\n",
      "489053/489053 [==============================] - 1340s 3ms/step - loss: 9.9495 - mean_absolute_error: 2.1734 - val_loss: 11.7097 - val_mean_absolute_error: 2.6751\n",
      "Epoch 3/10\n",
      "489053/489053 [==============================] - 1158s 2ms/step - loss: 9.9445 - mean_absolute_error: 2.1716 - val_loss: 11.5889 - val_mean_absolute_error: 2.6363\n",
      "Epoch 4/10\n",
      "489053/489053 [==============================] - 1152s 2ms/step - loss: 10.0936 - mean_absolute_error: 2.2016 - val_loss: 12.0780 - val_mean_absolute_error: 2.7707\n",
      "Epoch 5/10\n",
      "489053/489053 [==============================] - 1126s 2ms/step - loss: 10.0465 - mean_absolute_error: 2.1915 - val_loss: 12.0641 - val_mean_absolute_error: 2.7781\n",
      "Epoch 6/10\n",
      "489053/489053 [==============================] - 1079s 2ms/step - loss: 10.0369 - mean_absolute_error: 2.1892 - val_loss: 12.2186 - val_mean_absolute_error: 2.7953\n",
      "Epoch 7/10\n",
      "489053/489053 [==============================] - 1103s 2ms/step - loss: 10.0299 - mean_absolute_error: 2.1876 - val_loss: 12.2690 - val_mean_absolute_error: 2.7967\n",
      "Epoch 8/10\n",
      "489053/489053 [==============================] - 1123s 2ms/step - loss: 10.2018 - mean_absolute_error: 2.2217 - val_loss: 12.2746 - val_mean_absolute_error: 2.8381\n",
      "Epoch 9/10\n",
      "489053/489053 [==============================] - 1131s 2ms/step - loss: 10.1802 - mean_absolute_error: 2.2179 - val_loss: 12.2848 - val_mean_absolute_error: 2.8430\n",
      "Epoch 10/10\n",
      "489053/489053 [==============================] - 1132s 2ms/step - loss: 10.1777 - mean_absolute_error: 2.2175 - val_loss: 12.2747 - val_mean_absolute_error: 2.8425\n"
     ]
    },
    {
     "data": {
      "text/plain": [
       "<tensorflow.python.keras.callbacks.History at 0x7f8e55c83cd0>"
      ]
     },
     "execution_count": 7,
     "metadata": {},
     "output_type": "execute_result"
    }
   ],
   "source": [
    "model.fit(trainSet, epochs=10, callbacks=callbacks, validation_data=valSet)"
   ]
  },
  {
   "cell_type": "code",
   "execution_count": null,
   "metadata": {},
   "outputs": [],
   "source": [
    "model.load_weights(tf.train.latest_checkpoint(checkpoint_dir))\n",
    "eval_loss, eval_acc = model.evaluate(testSet)\n",
    "\n",
    "print('Eval loss: {}, Eval Accuracy: {}'.format(eval_loss, eval_acc))"
   ]
  },
  {
   "cell_type": "code",
   "execution_count": 8,
   "metadata": {},
   "outputs": [],
   "source": [
    "checkpoint_dir = './training_checkpointsEfficientModel2'\n",
    "with strategy.scope():\n",
    "    model2 = tf.keras.Sequential([\n",
    "        tf.keras.layers.Dense(64,activation='relu'),\n",
    "        tf.keras.layers.Dropout(0.3),\n",
    "        tf.keras.layers.Dense(64,activation='relu'),\n",
    "        tf.keras.layers.Dropout(0.5),\n",
    "        tf.keras.layers.Dense(64,activation='relu'),\n",
    "        tf.keras.layers.Dropout(0.5),\n",
    "        tf.keras.layers.Dense(64,activation='relu'),\n",
    "        tf.keras.layers.Dense(1),\n",
    "    ])\n",
    "    \n",
    "    model2.compile(loss=tf.keras.losses.MeanSquaredError(),\n",
    "                optimizer=tf.keras.optimizers.Adam(),\n",
    "                metrics=[tf.keras.metrics.MeanAbsoluteError()])"
   ]
  },
  {
   "cell_type": "code",
   "execution_count": 9,
   "metadata": {},
   "outputs": [
    {
     "name": "stdout",
     "output_type": "stream",
     "text": [
      "Epoch 1/10\n",
      "489053/489053 [==============================] - 1217s 2ms/step - loss: 10.3062 - mean_absolute_error: 2.2436 - val_loss: 12.2468 - val_mean_absolute_error: 2.7602\n",
      "Epoch 2/10\n",
      "489053/489053 [==============================] - 1208s 2ms/step - loss: 10.1203 - mean_absolute_error: 2.2030 - val_loss: 12.4996 - val_mean_absolute_error: 2.7757\n",
      "Epoch 3/10\n",
      "489053/489053 [==============================] - 1225s 3ms/step - loss: 10.2035 - mean_absolute_error: 2.2177 - val_loss: 12.3028 - val_mean_absolute_error: 2.7610\n",
      "Epoch 4/10\n",
      "489053/489053 [==============================] - 1210s 2ms/step - loss: 10.3202 - mean_absolute_error: 2.2431 - val_loss: 12.6287 - val_mean_absolute_error: 2.8407\n",
      "Epoch 5/10\n",
      "489053/489053 [==============================] - 1217s 2ms/step - loss: 10.2502 - mean_absolute_error: 2.2288 - val_loss: 12.5555 - val_mean_absolute_error: 2.8415\n",
      "Epoch 6/10\n",
      "489053/489053 [==============================] - 1215s 2ms/step - loss: 10.2063 - mean_absolute_error: 2.2199 - val_loss: 12.4549 - val_mean_absolute_error: 2.8177\n",
      "Epoch 7/10\n",
      "489053/489053 [==============================] - 1231s 3ms/step - loss: 10.1952 - mean_absolute_error: 2.2186 - val_loss: 12.5073 - val_mean_absolute_error: 2.8562\n",
      "Epoch 8/10\n",
      "489053/489053 [==============================] - 1219s 2ms/step - loss: 10.3560 - mean_absolute_error: 2.2505 - val_loss: 12.5358 - val_mean_absolute_error: 2.8950\n",
      "Epoch 9/10\n",
      "489053/489053 [==============================] - 1224s 3ms/step - loss: 10.3290 - mean_absolute_error: 2.2462 - val_loss: 12.5174 - val_mean_absolute_error: 2.8911\n",
      "Epoch 10/10\n",
      "489053/489053 [==============================] - 1227s 3ms/step - loss: 10.3280 - mean_absolute_error: 2.2467 - val_loss: 12.5399 - val_mean_absolute_error: 2.8982\n"
     ]
    },
    {
     "data": {
      "text/plain": [
       "<tensorflow.python.keras.callbacks.History at 0x7f8e526702b0>"
      ]
     },
     "execution_count": 9,
     "metadata": {},
     "output_type": "execute_result"
    }
   ],
   "source": [
    "model2.fit(trainSet, epochs=10, callbacks=callbacks, validation_data=valSet)"
   ]
  },
  {
   "cell_type": "code",
   "execution_count": 10,
   "metadata": {},
   "outputs": [],
   "source": [
    "checkpoint_dir = './training_checkpointsEfficientModel3'\n",
    "with strategy.scope():\n",
    "    model3 = tf.keras.Sequential([\n",
    "        tf.keras.layers.Dense(64,activation='relu'),\n",
    "        tf.keras.layers.Dropout(0.4),\n",
    "        tf.keras.layers.Dense(32,activation='relu'),\n",
    "        tf.keras.layers.Dense(1),\n",
    "    ])\n",
    "    \n",
    "    model3.compile(loss=tf.keras.losses.MeanSquaredError(),\n",
    "                optimizer=tf.keras.optimizers.Adam(),\n",
    "                metrics=[tf.keras.metrics.MeanAbsoluteError()])"
   ]
  },
  {
   "cell_type": "code",
   "execution_count": 11,
   "metadata": {},
   "outputs": [
    {
     "name": "stdout",
     "output_type": "stream",
     "text": [
      "Epoch 1/10\n",
      "489053/489053 [==============================] - 1098s 2ms/step - loss: 10.1540 - mean_absolute_error: 2.2201 - val_loss: 11.7048 - val_mean_absolute_error: 2.7040\n",
      "Epoch 2/10\n",
      "489053/489053 [==============================] - 1043s 2ms/step - loss: 9.8547 - mean_absolute_error: 2.1633 - val_loss: 11.7482 - val_mean_absolute_error: 2.6643\n",
      "Epoch 3/10\n",
      "489053/489053 [==============================] - 1025s 2ms/step - loss: 9.8349 - mean_absolute_error: 2.1602 - val_loss: 11.8265 - val_mean_absolute_error: 2.6653\n",
      "Epoch 4/10\n",
      "489053/489053 [==============================] - 1025s 2ms/step - loss: 10.0304 - mean_absolute_error: 2.1976 - val_loss: 11.7682 - val_mean_absolute_error: 2.7119\n",
      "Epoch 5/10\n",
      "489053/489053 [==============================] - 1029s 2ms/step - loss: 9.9575 - mean_absolute_error: 2.1837 - val_loss: 11.9248 - val_mean_absolute_error: 2.7367\n",
      "Epoch 6/10\n",
      "489053/489053 [==============================] - 1039s 2ms/step - loss: 9.9435 - mean_absolute_error: 2.1828 - val_loss: 11.8997 - val_mean_absolute_error: 2.7321\n",
      "Epoch 7/10\n",
      "489053/489053 [==============================] - 1056s 2ms/step - loss: 9.9373 - mean_absolute_error: 2.1823 - val_loss: 11.8969 - val_mean_absolute_error: 2.7316\n",
      "Epoch 8/10\n",
      "489053/489053 [==============================] - 1050s 2ms/step - loss: 10.1251 - mean_absolute_error: 2.2188 - val_loss: 11.7636 - val_mean_absolute_error: 2.7516\n",
      "Epoch 9/10\n",
      "489053/489053 [==============================] - 1057s 2ms/step - loss: 10.1077 - mean_absolute_error: 2.2157 - val_loss: 11.7839 - val_mean_absolute_error: 2.7560\n",
      "Epoch 10/10\n",
      "489053/489053 [==============================] - 1067s 2ms/step - loss: 10.1063 - mean_absolute_error: 2.2154 - val_loss: 11.7839 - val_mean_absolute_error: 2.7562\n"
     ]
    },
    {
     "data": {
      "text/plain": [
       "<tensorflow.python.keras.callbacks.History at 0x7f8a502c2fa0>"
      ]
     },
     "execution_count": 11,
     "metadata": {},
     "output_type": "execute_result"
    }
   ],
   "source": [
    "model3.fit(trainSet, epochs=10, callbacks=callbacks, validation_data=valSet)"
   ]
  },
  {
   "cell_type": "code",
   "execution_count": null,
   "metadata": {},
   "outputs": [],
   "source": []
  }
 ],
 "metadata": {
  "kernelspec": {
   "display_name": "GPU",
   "language": "python",
   "name": "gputest"
  },
  "language_info": {
   "codemirror_mode": {
    "name": "ipython",
    "version": 3
   },
   "file_extension": ".py",
   "mimetype": "text/x-python",
   "name": "python",
   "nbconvert_exporter": "python",
   "pygments_lexer": "ipython3",
   "version": "3.8.6"
  }
 },
 "nbformat": 4,
 "nbformat_minor": 4
}
